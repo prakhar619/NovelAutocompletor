{
 "cells": [
  {
   "cell_type": "code",
   "execution_count": null,
   "metadata": {},
   "outputs": [],
   "source": [
    "import numpy as np\n",
    "from tensorflow.keras.models import Sequential\n",
    "from tensorflow.keras.layers import Dense\n",
    "from tensorflow.keras.layers import LSTM\n",
    "from tensorflow.keras.layers import Embedding\n",
    "from tensorflow.keras.preprocessing.text import Tokenizer\n",
    "from tensorflow.keras.preprocessing.text \\\n",
    "import text_to_word_sequence\n",
    "import tensorflow as tf\n",
    "import logging\n",
    "tf.get_logger().setLevel(logging.ERROR)"
   ]
  },
  {
   "cell_type": "code",
   "execution_count": null,
   "metadata": {},
   "outputs": [],
   "source": [
    "EPOCHS = 50\n",
    "BATCH_SIZE = 8\n",
    "WINDOW_LENGTH = 40\n",
    "WINDOW_STEP = 3\n",
    "PREDICT_LENGTH = 3\n",
    "MAX_WORDS = 10000\n",
    "EMBEDDING_WIDTH = 100"
   ]
  },
  {
   "cell_type": "code",
   "execution_count": null,
   "metadata": {},
   "outputs": [],
   "source": [
    "# Open and read file.\n",
    "INPUT_FILE_NAME = 'Frankenstein.txt'\n",
    "file = open(INPUT_FILE_NAME, 'r', encoding='utf-8')\n",
    "text = file.read()\n",
    "file.close()"
   ]
  },
  {
   "cell_type": "code",
   "execution_count": null,
   "metadata": {},
   "outputs": [],
   "source": [
    "# Make lower case and split into individual words.\n",
    "text = text_to_word_sequence(text)"
   ]
  },
  {
   "cell_type": "code",
   "execution_count": null,
   "metadata": {},
   "outputs": [],
   "source": [
    "print(text)"
   ]
  },
  {
   "cell_type": "code",
   "execution_count": null,
   "metadata": {},
   "outputs": [],
   "source": [
    "# Create training examples.\n",
    "fragments = []\n",
    "targets = []\n",
    "for i in range(0, len(text) - WINDOW_LENGTH, WINDOW_STEP):\n",
    "    fragments.append(text[i: i + WINDOW_LENGTH])\n",
    "    targets.append(text[i + WINDOW_LENGTH])"
   ]
  },
  {
   "cell_type": "code",
   "execution_count": null,
   "metadata": {},
   "outputs": [],
   "source": [
    "tokenizer = Tokenizer(num_words=MAX_WORDS, oov_token='UNK')\n",
    "tokenizer.fit_on_texts(text)\n",
    "\n",
    "fragments_indexed = tokenizer.texts_to_sequences(fragments)\n",
    "targets_indexed = tokenizer.texts_to_sequences(targets)\n",
    "\n",
    "# Convert to appropriate input and output formats.\n",
    "X = np.array(fragments_indexed, dtype=np.int)\n",
    "y = np.zeros((len(targets_indexed), MAX_WORDS))\n",
    "for i, target_index in enumerate(targets_indexed):\n",
    "    y[i, target_index] = 1"
   ]
  },
  {
   "cell_type": "code",
   "execution_count": null,
   "metadata": {},
   "outputs": [],
   "source": [
    "print(X[0].shape)\n",
    "print(y[0].shape)\n",
    "print(X[0])\n",
    "print(y[0])"
   ]
  },
  {
   "cell_type": "code",
   "execution_count": null,
   "metadata": {},
   "outputs": [],
   "source": [
    "# Build and train model.\n",
    "training_model = Sequential()\n",
    "\n",
    "training_model.add(Embedding(\n",
    "                        output_dim=EMBEDDING_WIDTH, \n",
    "                        input_dim=MAX_WORDS,\n",
    "                        mask_zero=True, \n",
    "                        input_length=None))\n",
    "\n",
    "training_model.add(LSTM(64, \n",
    "                        return_sequences=True,\n",
    "                        dropout=0.2, \n",
    "                        recurrent_dropout=0.2))\n",
    "\n",
    "training_model.add(LSTM(128, \n",
    "                        dropout=0.2,\n",
    "                        recurrent_dropout=0.2))\n",
    "\n",
    "training_model.add(Dense(128, activation='relu'))\n",
    "\n",
    "training_model.add(Dense(MAX_WORDS, activation='softmax'))"
   ]
  },
  {
   "cell_type": "code",
   "execution_count": null,
   "metadata": {},
   "outputs": [],
   "source": [
    "training_model.compile(loss='categorical_crossentropy',\n",
    "                        optimizer='adam')"
   ]
  },
  {
   "cell_type": "code",
   "execution_count": null,
   "metadata": {},
   "outputs": [],
   "source": [
    "training_model.summary()"
   ]
  },
  {
   "cell_type": "code",
   "execution_count": null,
   "metadata": {},
   "outputs": [],
   "source": [
    "history = training_model.fit(X, y, validation_split=0.05,\n",
    "                            batch_size=BATCH_SIZE,\n",
    "                            epochs=EPOCHS, verbose=2,\n",
    "                            shuffle=True)"
   ]
  },
  {
   "cell_type": "code",
   "execution_count": null,
   "metadata": {},
   "outputs": [],
   "source": [
    "##Inference Model for Embedding Test"
   ]
  },
  {
   "cell_type": "code",
   "execution_count": null,
   "metadata": {},
   "outputs": [],
   "source": [
    "inference_model = Sequential()\n",
    "inference_model.add(Embedding(\n",
    "                        output_dim=EMBEDDING_WIDTH, \n",
    "                        input_dim=MAX_WORDS,\n",
    "                        mask_zero=True, \n",
    "                        batch_input_shape=(1, 1)))\n",
    "inference_model.add(LSTM(64, \n",
    "                        return_sequences=True,\n",
    "                        dropout=0.2, recurrent_dropout=0.2,\n",
    "                        stateful=True))\n",
    "\n",
    "inference_model.add(LSTM(128, dropout=0.2,\n",
    "                        recurrent_dropout=0.2, stateful=True))\n",
    "\n",
    "inference_model.add(Dense(128, activation='relu'))\n",
    "\n",
    "inference_model.add(Dense(MAX_WORDS, activation='softmax'))"
   ]
  },
  {
   "cell_type": "code",
   "execution_count": null,
   "metadata": {},
   "outputs": [],
   "source": [
    "weights = training_model.get_weights()\n",
    "inference_model.set_weights(weights)"
   ]
  },
  {
   "cell_type": "code",
   "execution_count": null,
   "metadata": {},
   "outputs": [],
   "source": [
    "# Provide beginning of sentence and\n",
    "# predict next words in a greedy manner\n",
    "first_words = ['i', 'saw']\n",
    "first_words_indexed = tokenizer.texts_to_sequences(first_words)\n",
    "inference_model.reset_states()\n",
    "predicted_string = ''\n",
    "# Feed initial words to the model.\n",
    "for i, word_index in enumerate(first_words_indexed):\n",
    "    x = np.zeros((1, 1), dtype=np.int)\n",
    "    x[0][0] = word_index[0]\n",
    "    predicted_string += first_words[i]\n",
    "    predicted_string += ' '\n",
    "    y_predict = inference_model.predict(x, verbose=0)[0]\n",
    "# Predict PREDICT_LENGTH words.\n",
    "for i in range(PREDICT_LENGTH):\n",
    "    new_word_index = np.argmax(y_predict)\n",
    "    word = tokenizer.sequences_to_texts([[new_word_index]])\n",
    "    x[0][0] = new_word_index\n",
    "    predicted_string += word[0]\n",
    "    predicted_string += ' '\n",
    "    y_predict = inference_model.predict(x, verbose=0)[0]\n",
    "print(predicted_string)"
   ]
  },
  {
   "cell_type": "code",
   "execution_count": null,
   "metadata": {},
   "outputs": [],
   "source": [
    "BEAM_LENGTH = 8\n",
    "def BeamResetSearch(wordList):\n",
    "    indexList = tokenizer.texts_to_sequences(wordList)\n",
    "    inference_model.reset_states()\n",
    "    predicted_string = ''\n",
    "    for i, word_index in enumerate(indexList):\n",
    "        x = np.zeros((1, 1), dtype=np.int)\n",
    "        x[0][0] = word_index[0]\n",
    "        predicted_string += wordList[i]\n",
    "        predicted_string += ' '\n",
    "        y_predict = inference_model.predict(x, verbose=0)[0]\n",
    "\n",
    "    predicted_string =  predicted_string[0:-1]\n",
    "    Beam = [(np.log(1.0), predicted_string)]\n",
    "    newBeam = []\n",
    "    print\n",
    "    for k in range(BEAM_LENGTH):\n",
    "        new_word_index = np.argmax(y_predict)\n",
    "        word = tokenizer.sequences_to_texts([[new_word_index]])\n",
    "        new_prob = Beam[0][0] + np.log(np.max(y_predict))\n",
    "        new_word = predicted_string +' '+ word[0]\n",
    "        newBeam.append( (new_prob, new_word) )\n",
    "\n",
    "        y_predict[new_word_index] = 0\n",
    "\n",
    "    return newBeam\n",
    "\n",
    "def BeamSearch(words):\n",
    "    Beams = [ (np.log(1), words) ]\n",
    "    for i in range(PREDICT_LENGTH):\n",
    "        all_beams = []\n",
    "        for Beam in Beams:\n",
    "            new_Beams = BeamResetSearch(text_to_word_sequence(Beam[1]))\n",
    "            all_beams = all_beams + new_Beams\n",
    "        all_beams.sort(key=lambda tup: tup[0], reverse=True)\n",
    "        Beams = all_beams[0:BEAM_LENGTH]\n",
    "        # print(Beams)\n",
    "    return Beams\n"
   ]
  },
  {
   "cell_type": "code",
   "execution_count": null,
   "metadata": {},
   "outputs": [],
   "source": [
    "words = \"a body \" \n",
    "predicted_beams = BeamSearch(words)\n",
    "for beams in predicted_beams:\n",
    "    print(beams[1])"
   ]
  },
  {
   "cell_type": "code",
   "execution_count": null,
   "metadata": {},
   "outputs": [],
   "source": [
    "# Explore embedding similarities.\n",
    "embeddings = training_model.layers[0].get_weights()[0]\n",
    "lookup_words = ['the', 'saw', 'see', 'of', 'and', 'monster', 'frankenstein', 'read', 'eat']\n",
    "for lookup_word in lookup_words:\n",
    "    lookup_word_indexed = tokenizer.texts_to_sequences([lookup_word])\n",
    "    print('words close to:', lookup_word)\n",
    "    lookup_embedding = embeddings[lookup_word_indexed[0]]\n",
    "    word_indices = {}\n",
    "# Calculate distances.\n",
    "    for i, embedding in enumerate(embeddings):\n",
    "        distance = np.linalg.norm(embedding - lookup_embedding)\n",
    "        word_indices[distance] = i\n",
    "# Print sorted by distance.\n",
    "    for distance in sorted(word_indices.keys())[:5]:\n",
    "        word_index = word_indices[distance]\n",
    "        word = tokenizer.sequences_to_texts([[word_index]])[0]\n",
    "        print(word + ': ', distance)\n",
    "    print('')"
   ]
  }
 ],
 "metadata": {
  "kernelspec": {
   "display_name": "direct",
   "language": "python",
   "name": "python3"
  },
  "language_info": {
   "codemirror_mode": {
    "name": "ipython",
    "version": 3
   },
   "file_extension": ".py",
   "mimetype": "text/x-python",
   "name": "python",
   "nbconvert_exporter": "python",
   "pygments_lexer": "ipython3",
   "version": "3.7.12"
  }
 },
 "nbformat": 4,
 "nbformat_minor": 2
}
